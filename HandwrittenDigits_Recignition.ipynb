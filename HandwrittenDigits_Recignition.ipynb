{
  "cells": [
    {
      "cell_type": "markdown",
      "metadata": {
        "id": "view-in-github",
        "colab_type": "text"
      },
      "source": [
        "<a href=\"https://colab.research.google.com/github/AymaneDame/Handwritten-Digit-Recognition-with-CNN/blob/main/HandwrittenDigits_Recignition.ipynb\" target=\"_parent\"><img src=\"https://colab.research.google.com/assets/colab-badge.svg\" alt=\"Open In Colab\"/></a>"
      ]
    },
    {
      "cell_type": "markdown",
      "metadata": {
        "id": "QrueTVjgzC9a"
      },
      "source": [
        "Importation des librairies"
      ]
    },
    {
      "cell_type": "code",
      "execution_count": null,
      "metadata": {
        "colab": {
          "background_save": true
        },
        "id": "UgUfbHqSyhc9"
      },
      "outputs": [],
      "source": [
        "import math\n",
        "import numpy as np\n",
        "import h5py\n",
        "import matplotlib.pyplot as plt\n",
        "import scipy\n",
        "from PIL import Image\n",
        "from scipy import ndimage\n",
        "import tensorflow as tf\n",
        "from tensorflow.python.framework import ops\n",
        "\n",
        "import matplotlib.pyplot as plt\n",
        "import numpy as np\n",
        "from tensorflow.keras.optimizers import SGD\n",
        "from tensorflow.keras.models import Sequential\n",
        "from tensorflow.keras.layers import Dense, Dropout, Flatten\n",
        "from tensorflow.keras.layers import Conv2D, MaxPooling2D"
      ]
    },
    {
      "cell_type": "markdown",
      "metadata": {
        "id": "3B8mAgnDy9Il"
      },
      "source": [
        "Montage de google drive"
      ]
    },
    {
      "cell_type": "code",
      "execution_count": null,
      "metadata": {
        "colab": {
          "base_uri": "https://localhost:8080/"
        },
        "id": "hkUBVDsr0DzJ",
        "outputId": "a3bbfcb6-9620-4825-b9cf-a810b84df867"
      },
      "outputs": [
        {
          "name": "stdout",
          "output_type": "stream",
          "text": [
            "Mounted at /content/gdrive/\n"
          ]
        }
      ],
      "source": [
        "from google.colab import drive\n",
        "drive.mount('/content/gdrive/')"
      ]
    },
    {
      "cell_type": "markdown",
      "metadata": {
        "id": "nwyagrHp0Tul"
      },
      "source": [
        "Chargement des données "
      ]
    },
    {
      "cell_type": "code",
      "execution_count": null,
      "metadata": {
        "id": "xb8n3AlC1SWE"
      },
      "outputs": [],
      "source": [
        "train_dataset = h5py.File('/content/gdrive/My Drive/tp_cnn/tp_1/data/train_signs.h5', \"r\")\n",
        "train_set_x_orig = np.array(train_dataset[\"train_set_x\"][:])\n",
        "train_set_y_orig = np.array(train_dataset[\"train_set_y\"][:])\n",
        "\n",
        "test_dataset = h5py.File('/content/gdrive/My Drive/tp_cnn/tp_1/data/test_signs.h5', \"r\")\n",
        "test_set_x_orig = np.array(test_dataset[\"test_set_x\"][:]) \n",
        "test_set_y_orig = np.array(test_dataset[\"test_set_y\"][:]) \n",
        "\n",
        "classes = np.array(test_dataset[\"list_classes\"][:]) \n",
        "  \n",
        "train_set_y_orig = train_set_y_orig.reshape((1, train_set_y_orig.shape[0]))\n",
        "test_set_y_orig = test_set_y_orig.reshape((1, test_set_y_orig.shape[0]))\n",
        "\n",
        "input_shape = train_set_x_orig[0].shape"
      ]
    },
    {
      "cell_type": "markdown",
      "metadata": {
        "id": "by1QSWmr1eEx"
      },
      "source": [
        "Exemple d'une image"
      ]
    },
    {
      "cell_type": "code",
      "execution_count": null,
      "metadata": {
        "id": "yzXrf9Ys1gnT"
      },
      "outputs": [],
      "source": [
        "# Example of a picture\n",
        "index = 0\n",
        "plt.imshow(train_set_x_orig[index])\n",
        "print (\"y = \" + str(np.squeeze(train_set_y_orig[:, index])))"
      ]
    },
    {
      "cell_type": "markdown",
      "metadata": {
        "id": "pSItwwaD4zuQ"
      },
      "source": [
        "Dimension de nos images"
      ]
    },
    {
      "cell_type": "code",
      "execution_count": null,
      "metadata": {
        "colab": {
          "base_uri": "https://localhost:8080/"
        },
        "id": "oArcn6ZA47Hd",
        "outputId": "1db0fc5a-20fa-4b99-a4a2-008a56d9d8d0"
      },
      "outputs": [
        {
          "name": "stdout",
          "output_type": "stream",
          "text": [
            "(64, 64, 3)\n"
          ]
        }
      ],
      "source": [
        "print(train_set_x_orig[0].shape)"
      ]
    },
    {
      "cell_type": "markdown",
      "metadata": {
        "id": "ltJ1tqAx5KsY"
      },
      "source": [
        "Normalisation"
      ]
    },
    {
      "cell_type": "code",
      "execution_count": null,
      "metadata": {
        "colab": {
          "base_uri": "https://localhost:8080/"
        },
        "id": "cr285LFN5Ov4",
        "outputId": "94125d46-dc50-4da0-eb9a-dd7938d5d1dd"
      },
      "outputs": [
        {
          "name": "stdout",
          "output_type": "stream",
          "text": [
            "Valeur maximum de nos images :  4\n",
            "Valeur minimum de nos images :  244\n",
            "Valeur maximum de nos images normalisées :  0.015686275\n",
            "Valeur minimum de nos images normalisées :  0.95686275\n"
          ]
        }
      ],
      "source": [
        "print('Valeur maximum de nos images : ',np.min(train_set_x_orig))\n",
        "print('Valeur minimum de nos images : ', np.max(train_set_x_orig))\n",
        "\n",
        "X_train = train_set_x_orig.astype('float32')/255\n",
        "X_test = test_set_x_orig.astype('float32')/255\n",
        "\n",
        "print('Valeur maximum de nos images normalisées : ',np.min(X_train))\n",
        "print('Valeur minimum de nos images normalisées : ',np.max(X_train))"
      ]
    },
    {
      "cell_type": "markdown",
      "metadata": {
        "id": "mLxBodL651Dy"
      },
      "source": [
        "Vectorisation"
      ]
    },
    {
      "cell_type": "code",
      "execution_count": null,
      "metadata": {
        "colab": {
          "base_uri": "https://localhost:8080/"
        },
        "id": "WT93fqZU55o8",
        "outputId": "5e36ee66-33f3-4cc0-dbc6-58b9d4981f65"
      },
      "outputs": [
        {
          "name": "stdout",
          "output_type": "stream",
          "text": [
            "(1, 1080)\n",
            "(1, 120)\n",
            "[0. 0. 0. 1. 0. 0.]\n",
            "[3]\n"
          ]
        }
      ],
      "source": [
        "print(train_set_y_orig.shape)\n",
        "print(test_set_y_orig.shape)\n",
        "Y_train = np.eye(6)[train_set_y_orig.reshape(-1)]\n",
        "Y_test = np.eye(6)[test_set_y_orig.reshape(-1)]\n",
        "print(Y_train[150, :])\n",
        "print((train_set_y_orig[:, 150]))"
      ]
    },
    {
      "cell_type": "markdown",
      "metadata": {
        "id": "4nFupStfFH6J"
      },
      "source": [
        "Construction du modèle"
      ]
    },
    {
      "cell_type": "code",
      "execution_count": null,
      "metadata": {
        "id": "nGc7Ng5JFOk1"
      },
      "outputs": [],
      "source": [
        "model = Sequential()"
      ]
    },
    {
      "cell_type": "code",
      "execution_count": null,
      "metadata": {
        "id": "xaa5VO86FSui"
      },
      "outputs": [],
      "source": [
        "model.add(Conv2D(32, \n",
        "                 kernel_size=(3, 3),\n",
        "                 activation='relu',\n",
        "                 input_shape=(64,64,3)))\n",
        "model.add(Conv2D(32, \n",
        "                 kernel_size=(3, 3),\n",
        "                 activation='relu',\n",
        "                 input_shape=(64,64,3)))"
      ]
    },
    {
      "cell_type": "markdown",
      "metadata": {
        "id": "FbB_tWJwJ4pZ"
      },
      "source": [
        "Pooling"
      ]
    },
    {
      "cell_type": "code",
      "execution_count": null,
      "metadata": {
        "id": "pSLVotkqJ7bV"
      },
      "outputs": [],
      "source": [
        "model.add(MaxPooling2D(pool_size=(2, 2)))"
      ]
    },
    {
      "cell_type": "markdown",
      "metadata": {
        "id": "EFgVBrqwJ_zn"
      },
      "source": [
        "Vectorisation"
      ]
    },
    {
      "cell_type": "code",
      "execution_count": null,
      "metadata": {
        "id": "qecNnTZ9KDX5"
      },
      "outputs": [],
      "source": [
        "model.add(Flatten())"
      ]
    },
    {
      "cell_type": "markdown",
      "metadata": {
        "id": "4xob6_pnKHZr"
      },
      "source": [
        ""
      ]
    },
    {
      "cell_type": "code",
      "execution_count": null,
      "metadata": {
        "id": "rdLYgTIjKJyG"
      },
      "outputs": [],
      "source": [
        "model.add(Dense(6, activation='softmax'))"
      ]
    },
    {
      "cell_type": "markdown",
      "metadata": {
        "id": "WVdXFw0aKO0u"
      },
      "source": [
        "Visualisation du modèle"
      ]
    },
    {
      "cell_type": "code",
      "execution_count": null,
      "metadata": {
        "colab": {
          "base_uri": "https://localhost:8080/"
        },
        "id": "ZKlhZrzqKMly",
        "outputId": "b93f30e9-c488-4275-e045-c304f9fb22d2"
      },
      "outputs": [
        {
          "name": "stdout",
          "output_type": "stream",
          "text": [
            "Model: \"sequential\"\n",
            "_________________________________________________________________\n",
            " Layer (type)                Output Shape              Param #   \n",
            "=================================================================\n",
            " conv2d (Conv2D)             (None, 62, 62, 32)        896       \n",
            "                                                                 \n",
            " conv2d_1 (Conv2D)           (None, 60, 60, 32)        9248      \n",
            "                                                                 \n",
            " max_pooling2d (MaxPooling2D  (None, 30, 30, 32)       0         \n",
            " )                                                               \n",
            "                                                                 \n",
            " flatten (Flatten)           (None, 28800)             0         \n",
            "                                                                 \n",
            " dense (Dense)               (None, 6)                 172806    \n",
            "                                                                 \n",
            "=================================================================\n",
            "Total params: 182,950\n",
            "Trainable params: 182,950\n",
            "Non-trainable params: 0\n",
            "_________________________________________________________________\n"
          ]
        }
      ],
      "source": [
        "model.summary()"
      ]
    },
    {
      "cell_type": "markdown",
      "metadata": {
        "id": "OQelmmKjKT8T"
      },
      "source": [
        "Entrainement du modèle"
      ]
    },
    {
      "cell_type": "code",
      "execution_count": null,
      "metadata": {
        "colab": {
          "base_uri": "https://localhost:8080/"
        },
        "id": "Ji4yIn1cKUlf",
        "outputId": "2950264a-4ff1-4a02-bdb5-344bc6c1a7ae"
      },
      "outputs": [
        {
          "name": "stdout",
          "output_type": "stream",
          "text": [
            "Epoch 1/10\n"
          ]
        },
        {
          "name": "stderr",
          "output_type": "stream",
          "text": [
            "/usr/local/lib/python3.7/dist-packages/keras/optimizer_v2/gradient_descent.py:102: UserWarning: The `lr` argument is deprecated, use `learning_rate` instead.\n",
            "  super(SGD, self).__init__(name, **kwargs)\n"
          ]
        },
        {
          "name": "stdout",
          "output_type": "stream",
          "text": [
            "34/34 [==============================] - 1s 21ms/step - loss: 4.0145e-04 - accuracy: 1.0000 - val_loss: 0.7577 - val_accuracy: 0.9000\n",
            "Epoch 2/10\n",
            "34/34 [==============================] - 1s 16ms/step - loss: 3.9827e-04 - accuracy: 1.0000 - val_loss: 0.7564 - val_accuracy: 0.8917\n",
            "Epoch 3/10\n",
            "34/34 [==============================] - 1s 16ms/step - loss: 3.9896e-04 - accuracy: 1.0000 - val_loss: 0.7572 - val_accuracy: 0.9000\n",
            "Epoch 4/10\n",
            "34/34 [==============================] - 1s 17ms/step - loss: 3.9562e-04 - accuracy: 1.0000 - val_loss: 0.7597 - val_accuracy: 0.9000\n",
            "Epoch 5/10\n",
            "34/34 [==============================] - 1s 17ms/step - loss: 3.9525e-04 - accuracy: 1.0000 - val_loss: 0.7566 - val_accuracy: 0.9000\n",
            "Epoch 6/10\n",
            "34/34 [==============================] - 1s 16ms/step - loss: 3.9395e-04 - accuracy: 1.0000 - val_loss: 0.7567 - val_accuracy: 0.9000\n",
            "Epoch 7/10\n",
            "34/34 [==============================] - 1s 16ms/step - loss: 3.9358e-04 - accuracy: 1.0000 - val_loss: 0.7577 - val_accuracy: 0.9000\n",
            "Epoch 8/10\n",
            "34/34 [==============================] - 1s 16ms/step - loss: 3.9303e-04 - accuracy: 1.0000 - val_loss: 0.7575 - val_accuracy: 0.9000\n",
            "Epoch 9/10\n",
            "34/34 [==============================] - 1s 15ms/step - loss: 3.9110e-04 - accuracy: 1.0000 - val_loss: 0.7551 - val_accuracy: 0.9000\n",
            "Epoch 10/10\n",
            "34/34 [==============================] - 1s 15ms/step - loss: 3.9190e-04 - accuracy: 1.0000 - val_loss: 0.7589 - val_accuracy: 0.9000\n"
          ]
        },
        {
          "data": {
            "text/plain": [
              "<keras.callbacks.History at 0x7f9bbbccad50>"
            ]
          },
          "execution_count": 32,
          "metadata": {},
          "output_type": "execute_result"
        }
      ],
      "source": [
        "model.compile(loss=\"categorical_crossentropy\", optimizer=SGD(lr=0.01), metrics=[\"accuracy\"])\n",
        "model.fit(X_train, Y_train,\n",
        "          epochs = 100,\n",
        "          validation_data=(X_test, Y_test))"
      ]
    },
    {
      "cell_type": "markdown",
      "metadata": {
        "id": "tqe95834Lrc2"
      },
      "source": [
        "Sauvegarder les paramètres de notre modèle si nous voulons l'utiliser à nouveau plus tard"
      ]
    },
    {
      "cell_type": "code",
      "execution_count": null,
      "metadata": {
        "id": "X35Erl1LLx7U"
      },
      "outputs": [],
      "source": [
        "model.save_weights(\"model.h5\")"
      ]
    }
  ],
  "metadata": {
    "accelerator": "GPU",
    "colab": {
      "collapsed_sections": [],
      "name": "HandwrittenDigits_Recignition.ipynb",
      "provenance": [],
      "authorship_tag": "ABX9TyPiKoSrWJHYaFRZHe2Gwf/9",
      "include_colab_link": true
    },
    "kernelspec": {
      "display_name": "Python 3",
      "name": "python3"
    },
    "language_info": {
      "name": "python"
    }
  },
  "nbformat": 4,
  "nbformat_minor": 0
}